{
  "cells": [
    {
      "cell_type": "code",
      "source": [
        "pip install pandas"
      ],
      "metadata": {
        "colab": {
          "base_uri": "https://localhost:8080/"
        },
        "id": "a6Qa_WiFUZ8q",
        "outputId": "896853dd-0ea3-4f9b-d5bf-9f1eb9948f43"
      },
      "execution_count": null,
      "outputs": [
        {
          "output_type": "stream",
          "name": "stdout",
          "text": [
            "Requirement already satisfied: pandas in /usr/local/lib/python3.10/dist-packages (1.5.3)\n",
            "Requirement already satisfied: python-dateutil>=2.8.1 in /usr/local/lib/python3.10/dist-packages (from pandas) (2.8.2)\n",
            "Requirement already satisfied: pytz>=2020.1 in /usr/local/lib/python3.10/dist-packages (from pandas) (2023.4)\n",
            "Requirement already satisfied: numpy>=1.21.0 in /usr/local/lib/python3.10/dist-packages (from pandas) (1.25.2)\n",
            "Requirement already satisfied: six>=1.5 in /usr/local/lib/python3.10/dist-packages (from python-dateutil>=2.8.1->pandas) (1.16.0)\n"
          ]
        }
      ]
    },
    {
      "cell_type": "code",
      "execution_count": null,
      "metadata": {
        "id": "D3UxeKnZirKb"
      },
      "outputs": [],
      "source": [
        "import requests\n",
        "from bs4 import BeautifulSoup\n",
        "\n",
        "\n",
        "response = requests.get('https://g1.globo.com/')\n",
        "\n",
        "content = response.content\n",
        "\n",
        "site = BeautifulSoup(content, 'html.parser')\n",
        "\n",
        "# HTML da notícia\n",
        "noticia = site.find('div', attrs={'class': 'feed-post-body'})\n",
        "\n",
        "# Título\n",
        "titulo = noticia.find('a', attrs={'class': 'feed-post-link'})\n",
        "\n",
        "print(titulo.text)\n",
        "\n",
        "# Subtítulo: div class=\"feed-post-body-resumo\"\n",
        "subtitulo = noticia.find('div', attrs={'class': 'feed-post-body-resumo'})\n",
        "\n",
        "print(subtitulo.text)"
      ]
    },
    {
      "cell_type": "code",
      "source": [
        "pip install requests\n",
        "pip install bs4"
      ],
      "metadata": {
        "id": "Fmm-5A-uJ2wx"
      },
      "execution_count": null,
      "outputs": []
    },
    {
      "cell_type": "code",
      "source": [
        "import requests\n",
        "from bs4 import BeautifulSoup\n",
        "\n",
        "Aidor = input(\"Nome do Aidor: \")\n",
        "url = f\"https://pocamarket.com/search?search_type=normal&sort=new&q={Aidor}\"\n",
        "\n",
        "response = requests.get(url)\n",
        "html = response.text\n",
        "soup = BeautifulSoup(html, 'html.parser')\n",
        "\n",
        "# Encontrar todas as divs com a classe 'w-full cursor-pointer', responsáveis por cada card\n",
        "artistas = soup.find_all(\"div\", attrs={\"class\": \"w-full cursor-pointer\"})\n",
        "\n",
        "for poca in artistas:\n",
        "    # Inicializar as listas de dados para cada artista\n",
        "    dados_artista = []\n",
        "\n",
        "    # Encontrar e armazenar dados do artista\n",
        "    artista = poca.find('div', class_='grid-card__info__profile__name__member').text.strip()\n",
        "    preco = poca.find('div', class_='grid-card__info__price').text.strip()\n",
        "    album = poca.find('div', class_='grid-card__info__card-name').text.strip()\n",
        "    grupo_elemento = poca.find('div', class_='grid-card__info__profile__logo')\n",
        "    grupo = grupo_elemento.find_next('img')['alt'].strip() if grupo_elemento else \"Não encontrado\"\n",
        "    imagem_url = poca.find('div', class_='grid-card__image').find_next('img')['src'].strip()\n",
        "\n",
        "    # Encontrar a URL da imagem do grupo\n",
        "    grupo_imagem_url = grupo_elemento.find_next('img')['src'].strip() if grupo_elemento else \"Não encontrado\"\n",
        "\n",
        "    # Encontrar a URL da imagem do artista\n",
        "    imagem_url = poca.find('div', class_='grid-card__image').find_next('img')['src'].strip()\n",
        "    dados_artista.append({\n",
        "        \"Artista\": artista,\n",
        "        \"Grupo\": grupo,\n",
        "        \"Preço\": preco,\n",
        "        \"Álbum\": album,\n",
        "        \"Imagem URL Artista\": imagem_url,\n",
        "        \"Imagem URL Grupo\": grupo_imagem_url\n",
        "    })\n",
        "\n",
        "    # Imprimir dados para cada artista\n",
        "    print(\"Dados do artista:\")\n",
        "    print(\"------------------\")\n",
        "    for dado in dados_artista:\n",
        "        for chave, valor in dado.items():\n",
        "            print(f\"{chave}: {valor}\")\n",
        "        print(\"====================================\")\n",
        "        print(\"\\n\")\n"
      ],
      "metadata": {
        "id": "Fjn42VUDx4T4",
        "colab": {
          "base_uri": "https://localhost:8080/"
        },
        "outputId": "b48df53e-3b16-4369-a979-69be14a03388"
      },
      "execution_count": 2,
      "outputs": [
        {
          "output_type": "stream",
          "name": "stdout",
          "text": [
            "Nome do Aidor: mingi\n",
            "Dados do artista:\n",
            "------------------\n",
            "Artista: Unit\n",
            "Grupo: ATEEZ\n",
            "Preço: 9.50\n",
            "Álbum: THE WORLD EP.2 : OUTLAW DIARY VER.\n",
            "Imagem URL Artista: https://d1sut5kn3lwnf7.cloudfront.net/media/photocard_blur/2023/06/21/3595e2fe14714f42af3a260a5268179d.jpg\n",
            "Imagem URL Grupo: https://d1sut5kn3lwnf7.cloudfront.net/media/group/2022/03/16/fbb6ad760f6246c28e3b0516bb1af195.jpg\n",
            "====================================\n",
            "\n",
            "\n",
            "Dados do artista:\n",
            "------------------\n",
            "Artista: Unit\n",
            "Grupo: ATEEZ\n",
            "Preço: 2.00\n",
            "Álbum: THE WORLD EP.2 : OUTLAW DIARY VER.\n",
            "Imagem URL Artista: https://d1sut5kn3lwnf7.cloudfront.net/media/photocard_blur/2023/06/30/596e8c164cf44d90896f902f05a69115.jpg\n",
            "Imagem URL Grupo: https://d1sut5kn3lwnf7.cloudfront.net/media/group/2022/03/16/fbb6ad760f6246c28e3b0516bb1af195.jpg\n",
            "====================================\n",
            "\n",
            "\n",
            "Dados do artista:\n",
            "------------------\n",
            "Artista: MINGI\n",
            "Grupo: ATEEZ\n",
            "Preço: 8.00\n",
            "Álbum: Zero : Fever Part 1 Yes24\n",
            "Imagem URL Artista: https://d1sut5kn3lwnf7.cloudfront.net/media/photocard_blur/2022/09/29/e2c2ff98d2c04b248f66be0a9918d6f8.jpg\n",
            "Imagem URL Grupo: https://d1sut5kn3lwnf7.cloudfront.net/media/group/2022/03/16/fbb6ad760f6246c28e3b0516bb1af195.jpg\n",
            "====================================\n",
            "\n",
            "\n",
            "Dados do artista:\n",
            "------------------\n",
            "Artista: MINGI\n",
            "Grupo: ATEEZ\n",
            "Preço: 32.00\n",
            "Álbum: ATEEZ WINTER SPEACIAL MD : SNOWMAN FACTORY PHOTO SET\n",
            "Imagem URL Artista: https://d1sut5kn3lwnf7.cloudfront.net/media/photocard_blur/2024/03/13/793e50c9fa7c4b9dbf6a0e88f5ace99b.jpg\n",
            "Imagem URL Grupo: https://d1sut5kn3lwnf7.cloudfront.net/media/group/2022/03/16/fbb6ad760f6246c28e3b0516bb1af195.jpg\n",
            "====================================\n",
            "\n",
            "\n",
            "Dados do artista:\n",
            "------------------\n",
            "Artista: MINGI\n",
            "Grupo: ATEEZ\n",
            "Preço: 42.00\n",
            "Álbum: THE WORLD EP.1 : MOVEMENT BROADCAST\n",
            "Imagem URL Artista: https://d1sut5kn3lwnf7.cloudfront.net/media/photocard_blur/2022/09/29/1be4cfcf145e43268fe1587be69ea87f.jpg\n",
            "Imagem URL Grupo: https://d1sut5kn3lwnf7.cloudfront.net/media/group/2022/03/16/fbb6ad760f6246c28e3b0516bb1af195.jpg\n",
            "====================================\n",
            "\n",
            "\n",
            "Dados do artista:\n",
            "------------------\n",
            "Artista: MINGI\n",
            "Grupo: ATEEZ\n",
            "Preço: 8.50\n",
            "Álbum: THE WORLD EP.1 : MOVEMENT BEATROAD\n",
            "Imagem URL Artista: https://d1sut5kn3lwnf7.cloudfront.net/media/photocard_blur/2022/09/29/e04b9d225a584bbb8666639df05e6e0a.jpg\n",
            "Imagem URL Grupo: https://d1sut5kn3lwnf7.cloudfront.net/media/group/2022/03/16/fbb6ad760f6246c28e3b0516bb1af195.jpg\n",
            "====================================\n",
            "\n",
            "\n",
            "Dados do artista:\n",
            "------------------\n",
            "Artista: MINGI\n",
            "Grupo: ATEEZ\n",
            "Preço: 10.00\n",
            "Álbum: Lightiny Case\n",
            "Imagem URL Artista: https://d1sut5kn3lwnf7.cloudfront.net/media/photocard_blur/2023/09/19/5cf924d5d0a04b659504b1429fc93c0c.jpg\n",
            "Imagem URL Grupo: https://d1sut5kn3lwnf7.cloudfront.net/media/group/2022/03/16/fbb6ad760f6246c28e3b0516bb1af195.jpg\n",
            "====================================\n",
            "\n",
            "\n",
            "Dados do artista:\n",
            "------------------\n",
            "Artista: MINGI\n",
            "Grupo: ATEEZ\n",
            "Preço: 12.00\n",
            "Álbum: Zero : Fever Part 3 Makestar 2\n",
            "Imagem URL Artista: https://d1sut5kn3lwnf7.cloudfront.net/media/photocard_blur/2022/09/29/71a11f8de3e44769a20e60177bb3cc5d.jpg\n",
            "Imagem URL Grupo: https://d1sut5kn3lwnf7.cloudfront.net/media/group/2022/03/16/fbb6ad760f6246c28e3b0516bb1af195.jpg\n",
            "====================================\n",
            "\n",
            "\n"
          ]
        }
      ]
    }
  ],
  "metadata": {
    "colab": {
      "provenance": []
    },
    "kernelspec": {
      "display_name": "Python 3",
      "name": "python3"
    },
    "language_info": {
      "name": "python"
    }
  },
  "nbformat": 4,
  "nbformat_minor": 0
}